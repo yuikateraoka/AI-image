{
  "nbformat": 4,
  "nbformat_minor": 0,
  "metadata": {
    "colab": {
      "name": "flask_keres_cnn_originaldataset.ipynb",
      "provenance": [],
      "collapsed_sections": [],
      "mount_file_id": "1e01JZKoujcxzobGFWBAGq5Cmlc5hmi5u",
      "authorship_tag": "ABX9TyP548olshtjCQtnzY2AQHbV",
      "include_colab_link": true
    },
    "kernelspec": {
      "name": "python3",
      "display_name": "Python 3"
    },
    "language_info": {
      "name": "python"
    },
    "accelerator": "GPU"
  },
  "cells": [
    {
      "cell_type": "markdown",
      "metadata": {
        "id": "view-in-github",
        "colab_type": "text"
      },
      "source": [
        "<a href=\"https://colab.research.google.com/github/yuikateraoka/AI-image/blob/main/flask_keres_cnn_originaldataset.ipynb\" target=\"_parent\"><img src=\"https://colab.research.google.com/assets/colab-badge.svg\" alt=\"Open In Colab\"/></a>"
      ]
    },
    {
      "cell_type": "code",
      "metadata": {
        "colab": {
          "base_uri": "https://localhost:8080/"
        },
        "id": "oJCd1xD3XxlJ",
        "outputId": "ed54a95a-8c97-427e-b3a4-6d19cef0c175"
      },
      "source": [
        "!unzip dataset(1).zip"
      ],
      "execution_count": null,
      "outputs": [
        {
          "output_type": "stream",
          "text": [
            "/bin/bash: -c: line 0: syntax error near unexpected token `('\n",
            "/bin/bash: -c: line 0: `unzip dataset(1).zip'\n"
          ],
          "name": "stdout"
        }
      ]
    },
    {
      "cell_type": "code",
      "metadata": {
        "colab": {
          "base_uri": "https://localhost:8080/"
        },
        "id": "q3w_NAkYaxcx",
        "outputId": "ec3cbd30-c4d7-479f-fecd-50cade46fd9e"
      },
      "source": [
        "import tensorflow as tf\n",
        "print(tf.__version__)\n",
        "\n",
        "import keras\n",
        "print(keras.__version__)\n",
        "\n",
        "import matplotlib\n",
        "print(matplotlib.__version__)\n",
        "\n",
        "import platform\n",
        "print(\"python \" + platform.python_version())"
      ],
      "execution_count": null,
      "outputs": [
        {
          "output_type": "stream",
          "text": [
            "2.4.1\n",
            "2.4.3\n",
            "3.2.2\n",
            "python 3.7.10\n"
          ],
          "name": "stdout"
        }
      ]
    },
    {
      "cell_type": "code",
      "metadata": {
        "id": "4DTawitnaaIq"
      },
      "source": [
        "#1 ライブラリのインポート等\n",
        "\n",
        "import keras\n",
        "import glob\n",
        "import numpy as np\n",
        "from sklearn.model_selection import train_test_split\n",
        "from keras.preprocessing.image import load_img, img_to_array\n",
        "from keras.models import Sequential\n",
        "from keras.layers import Conv2D, MaxPooling2D\n",
        "from keras.layers import Dense, Dropout, Flatten\n",
        "from keras.utils import plot_model\n",
        "from keras.optimizers import Adam\n",
        "import matplotlib.pyplot as plt\n",
        "import time"
      ],
      "execution_count": null,
      "outputs": []
    },
    {
      "cell_type": "code",
      "metadata": {
        "colab": {
          "base_uri": "https://localhost:8080/"
        },
        "id": "mDSqQJf9a0SC",
        "outputId": "bc1d686b-34cb-41e5-b06b-d3ccf878dcc8"
      },
      "source": [
        "#2 各種設定 \n",
        "\n",
        "train_data_path = '/content/drive/MyDrive/Colab Notebooks/Meats/train' # ここを変更。Colaboratoryにアップロードしたzipファイルを解凍後の、データセットのフォルダ名を入力\n",
        "\n",
        "image_size = 28 # ここを変更。必要に応じて変更してください。「28」を指定した場合、縦28横28ピクセルの画像に変換します。\n",
        "\n",
        "color_setting = 1  #ここを変更。データセット画像のカラー：「1」はモノクロ・グレースケール。「3」はカラー。\n",
        "\n",
        "folder = ['rare', 'welldone'] # ここを変更。データセット画像のフォルダ名（クラス名）を半角英数で入力\n",
        "\n",
        "class_number = len(folder)\n",
        "print('今回のデータで分類するクラス数は「', str(class_number), '」です。')\n"
      ],
      "execution_count": null,
      "outputs": [
        {
          "output_type": "stream",
          "text": [
            "今回のデータで分類するクラス数は「 2 」です。\n"
          ],
          "name": "stdout"
        }
      ]
    },
    {
      "cell_type": "code",
      "metadata": {
        "colab": {
          "base_uri": "https://localhost:8080/"
        },
        "id": "V12N8WFCbFDw",
        "outputId": "15337fa7-415f-4c59-94e2-1b62110dd3e8"
      },
      "source": [
        "#3 データセットの読み込みとデータ形式の設定・正規化・分割 \n",
        "\n",
        "X_image = []  \n",
        "Y_label = [] \n",
        "for index, name in enumerate(folder):\n",
        "  read_data = train_data_path + '/' + name\n",
        "  files = glob.glob(read_data + '/*.jpg') #ここを変更。png形式のファイルを利用する場合のサンプルです。\n",
        "  print('--- 読み込んだデータセットは', read_data, 'です。')\n",
        "\n",
        "  for i, file in enumerate(files):  \n",
        "    if color_setting == 1:\n",
        "      img = load_img(file, color_mode = 'grayscale' ,target_size=(image_size, image_size))  \n",
        "    elif color_setting == 3:\n",
        "      img = load_img(file, color_mode = 'rgb' ,target_size=(image_size, image_size))\n",
        "    array = img_to_array(img)\n",
        "    X_image.append(array)\n",
        "    Y_label.append(index)\n",
        "\n",
        "X_image = np.array(X_image)\n",
        "Y_label = np.array(Y_label)\n",
        "\n",
        "X_image = X_image.astype('float32') / 255\n",
        "Y_label = keras.utils.to_categorical(Y_label, class_number)\n"
      ],
      "execution_count": null,
      "outputs": [
        {
          "output_type": "stream",
          "text": [
            "--- 読み込んだデータセットは /content/drive/MyDrive/Colab Notebooks/Meats/train/rare です。\n",
            "--- 読み込んだデータセットは /content/drive/MyDrive/Colab Notebooks/Meats/train/welldone です。\n"
          ],
          "name": "stdout"
        }
      ]
    },
    {
      "cell_type": "code",
      "metadata": {
        "colab": {
          "base_uri": "https://localhost:8080/",
          "height": 1000
        },
        "id": "Bxsd-3p6hwES",
        "outputId": "c5dcda96-88bf-48a2-d3a4-faf5f5036fdb"
      },
      "source": [
        "train_images, valid_images, train_labels, valid_labels = train_test_split(X_image, Y_label, test_size=0.10)\n",
        "x_train = train_images\n",
        "y_train = train_labels\n",
        "x_test = valid_images\n",
        "y_test = valid_labels\n",
        "\n",
        "\n",
        "#4 機械学習（人工知能）モデルの作成 – 畳み込みニューラルネットワーク（CNN）・学習の実行等\n",
        "\n",
        "model = Sequential()\n",
        "model.add(Conv2D(16, (3, 3), padding='same',\n",
        "          input_shape=(image_size, image_size, color_setting), activation='relu'))\n",
        "model.add(MaxPooling2D(pool_size=(2, 2)))               \n",
        "model.add(Conv2D(128, (3, 3), padding='same', activation='relu'))\n",
        "model.add(Conv2D(256, (3, 3), padding='same', activation='relu'))\n",
        "model.add(MaxPooling2D(pool_size=(2, 2)))                \n",
        "model.add(Dropout(0.5))                                   \n",
        "model.add(Flatten())\n",
        "model.add(Dense(128, activation='relu'))\n",
        "model.add(Dropout(0.25))                                 \n",
        "model.add(Dense(class_number, activation='softmax'))\n",
        "\n",
        "model.summary()\n",
        "plot_model(model, to_file='model.png')\n",
        "\n",
        "model.compile(loss='categorical_crossentropy',\n",
        "              optimizer=Adam(),\n",
        "              metrics=['accuracy'])\n",
        "\n",
        "start_time = time.time()\n",
        "\n",
        "# ここを変更。必要に応じて「batch_size=」「epochs=」の数字を変更してみてください。\n",
        "history = model.fit(x_train,y_train, batch_size=2, epochs=15, verbose=3, validation_data=(x_test, y_test))\n",
        "\n",
        "#plt.plot(history.history['acc'])\n",
        "plt.plot(history.history['accuracy'])\n",
        "#plt.plot(history.history['val_acc'])\n",
        "plt.plot(history.history['val_accuracy'])\n",
        "plt.title('Model accuracy')\n",
        "plt.ylabel('Accuracy')\n",
        "plt.xlabel('Epoch')\n",
        "plt.grid()\n",
        "plt.legend(['Train', 'Validation'], loc='upper left')\n",
        "plt.show()\n",
        "\n",
        "plt.plot(history.history['loss'])\n",
        "plt.plot(history.history['val_loss'])\n",
        "plt.title('Model loss')\n",
        "plt.ylabel('Loss')\n",
        "plt.xlabel('Epoch')\n",
        "plt.grid()\n",
        "plt.legend(['Train', 'Validation'], loc='upper left')\n",
        "plt.show()\n",
        "\n",
        "score = model.evaluate(x_test, y_test, verbose=0)\n",
        "print('Loss:', score[0], '（損失関数値 - 0に近いほど正解に近い）') \n",
        "print('Accuracy:', score[1] * 100, '%', '（精度 - 100% に近いほど正解に近い）') \n",
        "print('Computation time（計算時間）:{0:.3f} sec（秒）'.format(time.time() - start_time))\n",
        "\n",
        "\n",
        "# モデル構造と学習済みの重みの保存\n",
        "model.save('keras_cnn_model_weight_1.h5')"
      ],
      "execution_count": null,
      "outputs": [
        {
          "output_type": "stream",
          "text": [
            "Model: \"sequential_12\"\n",
            "_________________________________________________________________\n",
            "Layer (type)                 Output Shape              Param #   \n",
            "=================================================================\n",
            "conv2d_36 (Conv2D)           (None, 28, 28, 16)        160       \n",
            "_________________________________________________________________\n",
            "max_pooling2d_24 (MaxPooling (None, 14, 14, 16)        0         \n",
            "_________________________________________________________________\n",
            "conv2d_37 (Conv2D)           (None, 14, 14, 128)       18560     \n",
            "_________________________________________________________________\n",
            "conv2d_38 (Conv2D)           (None, 14, 14, 256)       295168    \n",
            "_________________________________________________________________\n",
            "max_pooling2d_25 (MaxPooling (None, 7, 7, 256)         0         \n",
            "_________________________________________________________________\n",
            "dropout_24 (Dropout)         (None, 7, 7, 256)         0         \n",
            "_________________________________________________________________\n",
            "flatten_12 (Flatten)         (None, 12544)             0         \n",
            "_________________________________________________________________\n",
            "dense_24 (Dense)             (None, 128)               1605760   \n",
            "_________________________________________________________________\n",
            "dropout_25 (Dropout)         (None, 128)               0         \n",
            "_________________________________________________________________\n",
            "dense_25 (Dense)             (None, 2)                 258       \n",
            "=================================================================\n",
            "Total params: 1,919,906\n",
            "Trainable params: 1,919,906\n",
            "Non-trainable params: 0\n",
            "_________________________________________________________________\n",
            "Epoch 1/15\n",
            "Epoch 2/15\n",
            "Epoch 3/15\n",
            "Epoch 4/15\n",
            "Epoch 5/15\n",
            "Epoch 6/15\n",
            "Epoch 7/15\n",
            "Epoch 8/15\n",
            "Epoch 9/15\n",
            "Epoch 10/15\n",
            "Epoch 11/15\n",
            "Epoch 12/15\n",
            "Epoch 13/15\n",
            "Epoch 14/15\n",
            "Epoch 15/15\n"
          ],
          "name": "stdout"
        },
        {
          "output_type": "display_data",
          "data": {
            "image/png": "[encoded data removed]",
            "text/plain": [
              "<Figure size 432x288 with 1 Axes>"
            ]
          },
          "metadata": {
            "tags": [],
            "needs_background": "light"
          }
        },
        {
          "output_type": "display_data",
          "data": {
            "image/png": "[encoded data removed]",
            "text/plain": [
              "<Figure size 432x288 with 1 Axes>"
            ]
          },
          "metadata": {
            "tags": [],
            "needs_background": "light"
          }
        },
        {
          "output_type": "stream",
          "text": [
            "Loss: 0.701863706111908 （損失関数値 - 0に近いほど正解に近い）\n",
            "Accuracy: 54.76190447807312 % （精度 - 100% に近いほど正解に近い）\n",
            "Computation time（計算時間）:8.451 sec（秒）\n"
          ],
          "name": "stdout"
        }
      ]
    },
    {
      "cell_type": "code",
      "metadata": {
        "colab": {
          "base_uri": "https://localhost:8080/",
          "height": 374
        },
        "id": "TWvZq3oukWqX",
        "outputId": "2c14cc09-7176-48d2-8b96-f544d410e1d0"
      },
      "source": [
        "#1 ライブラリのインポート等\n",
        "\n",
        "from keras.models import load_model\n",
        "import cv2 \n",
        "import matplotlib.pyplot as plt\n",
        "import numpy as np\n",
        "\n",
        "\n",
        "#2 各種設定\n",
        "\n",
        "recognise_image = '/content/drive/MyDrive/Colab Notebooks/data/test/rare/rare_test1.jpg' #ここを変更。画像認識したい画像ファイル名。（実行前に認識したい画像ファイルを1つアップロードしてください）\n",
        "\n",
        "folder = ['rare', 'welldone']  #ここを変更。今回は日本語の表示にしたかったので、folder = ['circle', 'cross'] の順番で日本語にしています。\n",
        "\n",
        "image_size = 28 # ここを変更。「28」を指定した場合、縦28横28ピクセルの画像に変換\n",
        "                # 「② 用意した自前画像で学習」と同じにする。\n",
        "\n",
        "color_setting = 3  # ここを変更。画像認識する画像のカラー。「1」はモノクロ・グレースケール。「3」はカラー\n",
        "                   # 「② 用意した自前画像で学習」と同じにする。\n",
        "\n",
        "#3 各種読み込み\n",
        "model = load_model('keras_cnn_model_weight_1.h5') \n",
        "\n",
        "\n",
        "\n",
        "#4 画像の表示・各種設定等\n",
        "img = cv2.imread(recognise_image, 0)  #ここを変更。モノクロ・グレースケールの場合は「0」。カラーの場合は「1」 。         \n",
        "img = cv2.resize(img, (image_size, image_size))\n",
        "plt.imshow(img)\n",
        "plt.gray()  #ここを変更。カラーの場合は「plt.gray()」を消す。モノクロ・グレースケールの場合は「plt.gray()」が無いと変な色になります。\n",
        "plt.show()\n",
        "\n",
        "img = img.reshape(image_size, image_size, color_setting).astype('float32')/255 \n",
        "\n",
        "#5 予測と結果の表示等\n",
        "\n",
        "prediction = model.predict(np.array([img]))\n",
        "#prediction = model.predict(np.array([img]))\n",
        "result = prediction[0]\n",
        "\n",
        "for i, accuracy in enumerate(result):\n",
        "  print('画像認識AIは「', folder[i], '」の確率を', int(accuracy * 100), '% と予測しました。')\n",
        "\n",
        "print('-------------------------------------------------------')\n",
        "print('画像認識AI：お肉の予測結果は、「', folder[result.argmax()],'」です。')"
      ],
      "execution_count": null,
      "outputs": [
        {
          "output_type": "display_data",
          "data": {
            "image/png": "[encoded data removed]",
            "text/plain": [
              "<Figure size 432x288 with 1 Axes>"
            ]
          },
          "metadata": {
            "tags": [],
            "needs_background": "light"
          }
        },
        {
          "output_type": "stream",
          "text": [
            "WARNING:tensorflow:8 out of the last 8 calls to <function Model.make_predict_function.<locals>.predict_function at 0x7f890b119cb0> triggered tf.function retracing. Tracing is expensive and the excessive number of tracings could be due to (1) creating @tf.function repeatedly in a loop, (2) passing tensors with different shapes, (3) passing Python objects instead of tensors. For (1), please define your @tf.function outside of the loop. For (2), @tf.function has experimental_relax_shapes=True option that relaxes argument shapes that can avoid unnecessary retracing. For (3), please refer to https://www.tensorflow.org/guide/function#controlling_retracing and https://www.tensorflow.org/api_docs/python/tf/function for  more details.\n",
            "画像認識AIは「 rare 」の確率を 74 % と予測しました。\n",
            "画像認識AIは「 welldone 」の確率を 25 % と予測しました。\n",
            "-------------------------------------------------------\n",
            "画像認識AI：お肉の予測結果は、「 rare 」です。\n"
          ],
          "name": "stdout"
        }
      ]
    }
  ]
}