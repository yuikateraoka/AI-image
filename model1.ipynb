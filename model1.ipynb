{
  "nbformat": 4,
  "nbformat_minor": 0,
  "metadata": {
    "colab": {
      "name": "model1.ipynb",
      "provenance": [],
      "collapsed_sections": [],
      "toc_visible": true,
      "mount_file_id": "1ul8rj_28_MVh48iUSjV-ZLvB3vIAbCVX",
      "authorship_tag": "ABX9TyMn5e/ynTGp3F/bWYfklkre",
      "include_colab_link": true
    },
    "kernelspec": {
      "name": "python3",
      "display_name": "Python 3"
    },
    "language_info": {
      "name": "python"
    },
    "accelerator": "GPU"
  },
  "cells": [
    {
      "cell_type": "markdown",
      "metadata": {
        "id": "view-in-github",
        "colab_type": "text"
      },
      "source": [
        "<a href=\"https://colab.research.google.com/github/yuikateraoka/AI-image/blob/main/model1.ipynb\" target=\"_parent\"><img src=\"https://colab.research.google.com/assets/colab-badge.svg\" alt=\"Open In Colab\"/></a>"
      ]
    },
    {
      "cell_type": "code",
      "metadata": {
        "id": "B8gSsnQaLOZi"
      },
      "source": [
        "#モジュールオブジェクトのインポート\n",
        "import os\n",
        "import cv2\n",
        "import numpy as np\n",
        "import matplotlib.pyplot as plt\n",
        "from keras.utils.np_utils import to_categorical\n",
        "from keras.layers import Dense, Dropout, Flatten, Input\n",
        "from keras.applications.vgg16 import VGG16\n",
        "from keras.models import Model, Sequential\n",
        "from keras import optimizers\n",
        "from os import listdir\n"
      ],
      "execution_count": 1,
      "outputs": []
    },
    {
      "cell_type": "code",
      "metadata": {
        "colab": {
          "base_uri": "https://localhost:8080/"
        },
        "id": "kw71TOSfLQtB",
        "outputId": "f87f526b-239c-4b4b-9a0f-738c7b9c9908"
      },
      "source": [
        "\n",
        "#イメージサイズの定義をする\n",
        "image_size = 50\n",
        "\n",
        "#listdir('./xx/')ファイルの中にある画像を入れる。\n",
        "path_bh = [filename for filename in listdir('/content/drive/MyDrive/train/rare/') if not filename.startswith('.')]\n",
        "path_bu = [filename for filename in listdir('/content/drive/MyDrive/train/welldone/') if not filename.startswith('.')]\n",
        "\n",
        "\n",
        "#各ファイルを順番に呼び出す。（ファイルにある個数分繰り返す。）\n",
        "#OpenCVで画像サイズをリサイズして統一する。\n",
        "#img_にリサイズしたものを加える。\n",
        "\n",
        "img_bh = []\n",
        "img_bu = []\n",
        "\n",
        "for i in range(len(path_bh)):\n",
        "   img = cv2.imread('/content/drive/MyDrive/train/rare/'+ path_bh[i])\n",
        "   img = cv2.resize(img,(image_size,image_size))\n",
        "   img_bh.append(img)\n",
        "\n",
        "for i in range(len(path_bu)):\n",
        "   img = cv2.imread('/content/drive/MyDrive/train/welldone/'+ path_bu[i])\n",
        "   img = cv2.resize(img,(image_size,image_size))\n",
        "   img_bu.append(img)\n",
        "\n",
        "X = np.array(img_bh + img_bu) #行列をくっつける。\n",
        "y = np.array([0]*len(img_bh) + [1]*len(img_bu)) #０、１、２と種類ごとに番号をつける。\n",
        "rand_index = np.random.permutation(np.arange(len(X))) #np.arange(x)の配列をランダムに並べ替えてrand_indexに入れる。\n",
        "X = X[rand_index] #Xをrand_index順に並び替える\n",
        "y = y[rand_index] #yをrand_index順に並び替える\n",
        "\n",
        "\n",
        "#データを分割する。\n",
        "# X_train = X[:int(len(X)*0.8)].astype(np.float32) #トレーニングデータ８割未満\n",
        "# y_train = y[:int(len(y)*0.8)].astype(np.float32)\n",
        "X_train = X[:int(len(X)*0.8)]#トレーニングデータ８割未満\n",
        "y_train = y[:int(len(y)*0.8)]\n",
        "X_test = X[int(len(X)*0.8):] #トレーニングデータ以外\n",
        "y_test = y[int(len(y)*0.8):]\n",
        "\n",
        "#各属性を表示する。\n",
        "print(X_train.shape)\n",
        "print(y_train.shape)\n",
        "print(X_test.shape)\n",
        "print(y_test.shape)\n",
        "\n",
        "y_train = to_categorical(y_train) #One-Hotベクトルを作成する。\n",
        "y_test = to_categorical(y_test) #One-Hotベクトルを作成する。\n",
        "\n",
        "\n",
        "\n",
        "\n"
      ],
      "execution_count": 5,
      "outputs": [
        {
          "output_type": "stream",
          "text": [
            "(912, 50, 50, 3)\n",
            "(912,)\n",
            "(229, 50, 50, 3)\n",
            "(229,)\n"
          ],
          "name": "stdout"
        }
      ]
    },
    {
      "cell_type": "code",
      "metadata": {
        "id": "TPrpIR-mMqDE"
      },
      "source": [
        "\n",
        "# 転移学習（VGG16モデル)を活用する。ImageNetで事前学習した重みを読み込む。\n",
        "input_tensor = Input(shape=(image_size, image_size, 3)) \n",
        "vgg16 = VGG16(include_top=False, weights='imagenet', input_tensor=input_tensor)\n",
        "\n",
        "#特徴抽出部分以降に新しく他の層を追加するにために、あらかじめVGGとは別のモデル（ここではtop_model）を定義する。\n",
        "top_model = Sequential()\n",
        "top_model.add(Flatten(input_shape=vgg16.output_shape[1:])) #VGGを結合する。\n",
        "\n",
        "top_model.add(Dense(256, activation=\"sigmoid\")) #1つ目の全結合層の出力ユニット数は256,活性化関数はshigmoid.\n",
        "top_model.add(Dropout(0.5))                     #過学習を防ぐ。\n",
        "top_model.add(Dense(64, activation='sigmoid'))\n",
        "top_model.add(Dropout(0.5))\n",
        "top_model.add(Dense(32, activation='sigmoid'))\n",
        "top_model.add(Dropout(0.5))\n",
        "top_model.add(Dense(2, activation='softmax')) #ソフトマックス関数を用いて3次元で出力する。Dense를 3로 하면 3차원이 된다."
      ],
      "execution_count": 6,
      "outputs": []
    },
    {
      "cell_type": "code",
      "metadata": {
        "colab": {
          "base_uri": "https://localhost:8080/"
        },
        "id": "l-0roUIlMK4E",
        "outputId": "c6385bd2-950c-4fe6-fc71-12ffd1ca1289"
      },
      "source": [
        "## vgg16とtop_modelを連結してください\n",
        "model = Model(inputs=vgg16.input, outputs=top_model(vgg16.output))\n",
        "\n",
        "#15番目の層までは固定し、それ以降のものを繰り返し学習する。\n",
        "for layer in model.layers[:15]:\n",
        "   layer.trainable = False\n",
        "\n",
        "#コンパイルする。\n",
        "model.compile(loss='categorical_crossentropy', #多クラス分類の損失関数を定義する。\n",
        "             optimizer=optimizers.SGD(lr=1e-4, momentum=0.9), #最適化関数を定義する。\n",
        "             metrics=['accuracy']) #評価関数を定義する。\n",
        "\n",
        "#X_train, y_trainを用いて学習を行う。テストデータは、X_test, y_test。\n",
        "# history = model.fit(X_train, y_train, batch_size=32, epochs=75, verbose=1, validation_data=(X_test, y_test))\n",
        "history = model.fit(X_train, y_train, batch_size=15, epochs=25, verbose=1, validation_data=(X_test, y_test))\n",
        "#精度の評価する。　\n",
        "score = model.evaluate(X_test, y_test, batch_size=15, verbose=0)\n",
        "print('validation loss:{0[0]}\\nvalidation accuracy:{0[1]}'.format(score))"
      ],
      "execution_count": 21,
      "outputs": [
        {
          "output_type": "stream",
          "text": [
            "/usr/local/lib/python3.7/dist-packages/tensorflow/python/keras/optimizer_v2/optimizer_v2.py:375: UserWarning: The `lr` argument is deprecated, use `learning_rate` instead.\n",
            "  \"The `lr` argument is deprecated, use `learning_rate` instead.\")\n"
          ],
          "name": "stderr"
        },
        {
          "output_type": "stream",
          "text": [
            "Epoch 1/25\n",
            "61/61 [==============================] - 4s 34ms/step - loss: 0.3143 - accuracy: 0.9020 - val_loss: 0.2903 - val_accuracy: 0.8996\n",
            "Epoch 2/25\n",
            "61/61 [==============================] - 1s 18ms/step - loss: 0.3440 - accuracy: 0.8569 - val_loss: 0.2913 - val_accuracy: 0.8996\n",
            "Epoch 3/25\n",
            "61/61 [==============================] - 1s 18ms/step - loss: 0.3396 - accuracy: 0.8743 - val_loss: 0.2851 - val_accuracy: 0.8996\n",
            "Epoch 4/25\n",
            "61/61 [==============================] - 1s 18ms/step - loss: 0.3093 - accuracy: 0.8985 - val_loss: 0.2839 - val_accuracy: 0.8996\n",
            "Epoch 5/25\n",
            "61/61 [==============================] - 1s 18ms/step - loss: 0.3130 - accuracy: 0.8912 - val_loss: 0.2870 - val_accuracy: 0.8996\n",
            "Epoch 6/25\n",
            "61/61 [==============================] - 1s 19ms/step - loss: 0.2896 - accuracy: 0.9144 - val_loss: 0.2831 - val_accuracy: 0.8996\n",
            "Epoch 7/25\n",
            "61/61 [==============================] - 1s 18ms/step - loss: 0.3269 - accuracy: 0.8802 - val_loss: 0.2832 - val_accuracy: 0.8996\n",
            "Epoch 8/25\n",
            "61/61 [==============================] - 1s 18ms/step - loss: 0.3085 - accuracy: 0.8968 - val_loss: 0.2790 - val_accuracy: 0.9039\n",
            "Epoch 9/25\n",
            "61/61 [==============================] - 1s 18ms/step - loss: 0.2913 - accuracy: 0.9123 - val_loss: 0.2768 - val_accuracy: 0.9083\n",
            "Epoch 10/25\n",
            "61/61 [==============================] - 1s 18ms/step - loss: 0.2659 - accuracy: 0.9262 - val_loss: 0.2755 - val_accuracy: 0.9083\n",
            "Epoch 11/25\n",
            "61/61 [==============================] - 1s 19ms/step - loss: 0.3006 - accuracy: 0.8976 - val_loss: 0.2703 - val_accuracy: 0.9127\n",
            "Epoch 12/25\n",
            "61/61 [==============================] - 1s 18ms/step - loss: 0.2878 - accuracy: 0.8950 - val_loss: 0.2738 - val_accuracy: 0.9127\n",
            "Epoch 13/25\n",
            "61/61 [==============================] - 1s 18ms/step - loss: 0.2824 - accuracy: 0.9047 - val_loss: 0.2708 - val_accuracy: 0.9127\n",
            "Epoch 14/25\n",
            "61/61 [==============================] - 1s 18ms/step - loss: 0.2695 - accuracy: 0.9229 - val_loss: 0.2673 - val_accuracy: 0.9127\n",
            "Epoch 15/25\n",
            "61/61 [==============================] - 1s 18ms/step - loss: 0.2629 - accuracy: 0.9305 - val_loss: 0.2665 - val_accuracy: 0.9127\n",
            "Epoch 16/25\n",
            "61/61 [==============================] - 1s 19ms/step - loss: 0.2750 - accuracy: 0.9310 - val_loss: 0.2682 - val_accuracy: 0.9083\n",
            "Epoch 17/25\n",
            "61/61 [==============================] - 1s 18ms/step - loss: 0.2661 - accuracy: 0.9280 - val_loss: 0.2657 - val_accuracy: 0.9127\n",
            "Epoch 18/25\n",
            "61/61 [==============================] - 1s 18ms/step - loss: 0.2641 - accuracy: 0.9118 - val_loss: 0.2640 - val_accuracy: 0.9127\n",
            "Epoch 19/25\n",
            "61/61 [==============================] - 1s 18ms/step - loss: 0.2569 - accuracy: 0.9231 - val_loss: 0.2631 - val_accuracy: 0.9170\n",
            "Epoch 20/25\n",
            "61/61 [==============================] - 1s 18ms/step - loss: 0.2757 - accuracy: 0.9096 - val_loss: 0.2609 - val_accuracy: 0.9170\n",
            "Epoch 21/25\n",
            "61/61 [==============================] - 1s 18ms/step - loss: 0.2541 - accuracy: 0.9253 - val_loss: 0.2603 - val_accuracy: 0.9170\n",
            "Epoch 22/25\n",
            "61/61 [==============================] - 1s 18ms/step - loss: 0.2540 - accuracy: 0.9337 - val_loss: 0.2609 - val_accuracy: 0.9127\n",
            "Epoch 23/25\n",
            "61/61 [==============================] - 1s 18ms/step - loss: 0.2566 - accuracy: 0.9131 - val_loss: 0.2545 - val_accuracy: 0.9127\n",
            "Epoch 24/25\n",
            "61/61 [==============================] - 1s 18ms/step - loss: 0.2605 - accuracy: 0.9141 - val_loss: 0.2588 - val_accuracy: 0.9170\n",
            "Epoch 25/25\n",
            "61/61 [==============================] - 1s 18ms/step - loss: 0.2433 - accuracy: 0.9263 - val_loss: 0.2592 - val_accuracy: 0.9127\n",
            "validation loss:0.2592035233974457\n",
            "validation accuracy:0.9126637578010559\n"
          ],
          "name": "stdout"
        }
      ]
    },
    {
      "cell_type": "code",
      "metadata": {
        "colab": {
          "base_uri": "https://localhost:8080/",
          "height": 800
        },
        "id": "8oIsZI4PNc-V",
        "outputId": "9ac94a6b-7d10-4d1c-eaa2-58bbf2773958"
      },
      "source": [
        "#plt.plot(history.history['acc'])\n",
        "plt.plot(history.history['accuracy'])\n",
        "#plt.plot(history.history['val_acc'])\n",
        "plt.plot(history.history['val_accuracy'])\n",
        "plt.title('Model accuracy')\n",
        "plt.ylabel('Accuracy')\n",
        "plt.xlabel('Epoch')\n",
        "plt.grid()\n",
        "plt.legend(['Train', 'Validation'], loc='upper left')\n",
        "plt.show()\n",
        "\n",
        "plt.plot(history.history['loss'])\n",
        "plt.plot(history.history['val_loss'])\n",
        "plt.title('Model loss')\n",
        "plt.ylabel('Loss')\n",
        "plt.xlabel('Epoch')\n",
        "plt.grid()\n",
        "plt.legend(['Train', 'Validation'], loc='upper left')\n",
        "plt.show()\n",
        "\n",
        "score = model.evaluate(x_test, y_test, verbose=0)\n",
        "print('Loss:', score[0], '（損失関数値 - 0に近いほど正解に近い）') \n",
        "print('Accuracy:', score[1] * 100, '%', '（精度 - 100% に近いほど正解に近い）') \n",
        "print('Computation time（計算時間）:{0:.3f} sec（秒）'.format(time.time() - start_time))"
      ],
      "execution_count": 22,
      "outputs": [
        {
          "output_type": "display_data",
          "data": {
            "image/png": "[encoded data removed]",
            "text/plain": [
              "<Figure size 432x288 with 1 Axes>"
            ]
          },
          "metadata": {
            "tags": [],
            "needs_background": "light"
          }
        },
        {
          "output_type": "display_data",
          "data": {
            "image/png": "[encoded data removed]",
            "text/plain": [
              "<Figure size 432x288 with 1 Axes>"
            ]
          },
          "metadata": {
            "tags": [],
            "needs_background": "light"
          }
        },
        {
          "output_type": "error",
          "ename": "NameError",
          "evalue": "ignored",
          "traceback": [
            "\u001b[0;31m---------------------------------------------------------------------------\u001b[0m",
            "\u001b[0;31mNameError\u001b[0m                                 Traceback (most recent call last)",
            "\u001b[0;32m<ipython-input-22-e2980ea664f4>\u001b[0m in \u001b[0;36m<module>\u001b[0;34m()\u001b[0m\n\u001b[1;32m     19\u001b[0m \u001b[0mplt\u001b[0m\u001b[0;34m.\u001b[0m\u001b[0mshow\u001b[0m\u001b[0;34m(\u001b[0m\u001b[0;34m)\u001b[0m\u001b[0;34m\u001b[0m\u001b[0;34m\u001b[0m\u001b[0m\n\u001b[1;32m     20\u001b[0m \u001b[0;34m\u001b[0m\u001b[0m\n\u001b[0;32m---> 21\u001b[0;31m \u001b[0mscore\u001b[0m \u001b[0;34m=\u001b[0m \u001b[0mmodel\u001b[0m\u001b[0;34m.\u001b[0m\u001b[0mevaluate\u001b[0m\u001b[0;34m(\u001b[0m\u001b[0mx_test\u001b[0m\u001b[0;34m,\u001b[0m \u001b[0my_test\u001b[0m\u001b[0;34m,\u001b[0m \u001b[0mverbose\u001b[0m\u001b[0;34m=\u001b[0m\u001b[0;36m0\u001b[0m\u001b[0;34m)\u001b[0m\u001b[0;34m\u001b[0m\u001b[0;34m\u001b[0m\u001b[0m\n\u001b[0m\u001b[1;32m     22\u001b[0m \u001b[0mprint\u001b[0m\u001b[0;34m(\u001b[0m\u001b[0;34m'Loss:'\u001b[0m\u001b[0;34m,\u001b[0m \u001b[0mscore\u001b[0m\u001b[0;34m[\u001b[0m\u001b[0;36m0\u001b[0m\u001b[0;34m]\u001b[0m\u001b[0;34m,\u001b[0m \u001b[0;34m'（損失関数値 - 0に近いほど正解に近い）'\u001b[0m\u001b[0;34m)\u001b[0m\u001b[0;34m\u001b[0m\u001b[0;34m\u001b[0m\u001b[0m\n\u001b[1;32m     23\u001b[0m \u001b[0mprint\u001b[0m\u001b[0;34m(\u001b[0m\u001b[0;34m'Accuracy:'\u001b[0m\u001b[0;34m,\u001b[0m \u001b[0mscore\u001b[0m\u001b[0;34m[\u001b[0m\u001b[0;36m1\u001b[0m\u001b[0;34m]\u001b[0m \u001b[0;34m*\u001b[0m \u001b[0;36m100\u001b[0m\u001b[0;34m,\u001b[0m \u001b[0;34m'%'\u001b[0m\u001b[0;34m,\u001b[0m \u001b[0;34m'（精度 - 100% に近いほど正解に近い）'\u001b[0m\u001b[0;34m)\u001b[0m\u001b[0;34m\u001b[0m\u001b[0;34m\u001b[0m\u001b[0m\n",
            "\u001b[0;31mNameError\u001b[0m: name 'x_test' is not defined"
          ]
        }
      ]
    },
    {
      "cell_type": "code",
      "metadata": {
        "id": "GTNIeQo-TS_y"
      },
      "source": [
        "\n",
        "#モデルを保存する。\n",
        "model.save(\"my_model4.h5\")"
      ],
      "execution_count": 26,
      "outputs": []
    }
  ]
}