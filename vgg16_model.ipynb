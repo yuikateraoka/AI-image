{
  "nbformat": 4,
  "nbformat_minor": 0,
  "metadata": {
    "colab": {
      "name": "vgg16_model.ipynb",
      "provenance": [],
      "collapsed_sections": [],
      "mount_file_id": "1amyz2LMFDZgaCldR1blB0JcVcO6_nQQ1",
      "authorship_tag": "ABX9TyMY1IEHBEHydmeffs9E5ByI",
      "include_colab_link": true
    },
    "kernelspec": {
      "name": "python3",
      "display_name": "Python 3"
    },
    "language_info": {
      "name": "python"
    },
    "accelerator": "GPU"
  },
  "cells": [
    {
      "cell_type": "markdown",
      "metadata": {
        "id": "view-in-github",
        "colab_type": "text"
      },
      "source": [
        "<a href=\"https://colab.research.google.com/github/yuikateraoka/AI-image/blob/main/vgg16_model.ipynb\" target=\"_parent\"><img src=\"https://colab.research.google.com/assets/colab-badge.svg\" alt=\"Open In Colab\"/></a>"
      ]
    },
    {
      "cell_type": "code",
      "metadata": {
        "id": "a_x76V39YqjG"
      },
      "source": [
        "#モジュールオブジェクトのインポート\n",
        "import os\n",
        "import cv2\n",
        "import numpy as np\n",
        "import matplotlib.pyplot as plt\n",
        "from keras.utils.np_utils import to_categorical\n",
        "from keras.layers import Dense, Dropout, Flatten, Input\n",
        "from keras.applications.vgg16 import VGG16\n",
        "from keras.models import Model, Sequential\n",
        "from keras import optimizers\n",
        "from os import listdir\n"
      ],
      "execution_count": null,
      "outputs": []
    },
    {
      "cell_type": "code",
      "metadata": {
        "colab": {
          "base_uri": "https://localhost:8080/"
        },
        "id": "Q-Yh-ehVYsyR",
        "outputId": "d8c7a45e-9679-43f3-b6e7-607c1cd53688"
      },
      "source": [
        "\n",
        "#イメージサイズの定義をする\n",
        "image_size = 50\n",
        "\n",
        "#listdir('./xx/')ファイルの中にある画像を入れる。\n",
        "path_bh = [filename for filename in listdir('/content/drive/MyDrive/train/rare/') if not filename.startswith('.')]\n",
        "path_bu = [filename for filename in listdir('/content/drive/MyDrive/train/welldone/') if not filename.startswith('.')]\n",
        "# path_rollar = [filename for filename in listdir('/content/meats/test/') if not filename.startswith('.')]\n",
        "\n",
        "\n",
        "\n",
        "#各ファイルを順番に呼び出す。（ファイルにある個数分繰り返す。）\n",
        "#OpenCVで画像サイズをリサイズして統一する。\n",
        "#img_にリサイズしたものを加える。\n",
        "\n",
        "img_bh = []\n",
        "img_bu = []\n",
        "img_rollar = []\n",
        "for i in range(len(path_bh)):\n",
        "   img = cv2.imread('/content/drive/MyDrive/train/rare/'+ path_bh[i])\n",
        "   img = cv2.resize(img,(image_size,image_size))\n",
        "   img_bh.append(img)\n",
        "\n",
        "for i in range(len(path_bu)):\n",
        "   img = cv2.imread('/content/drive/MyDrive/train/welldone/'+ path_bu[i])\n",
        "   img = cv2.resize(img,(image_size,image_size))\n",
        "   img_bu.append(img)\n",
        "\n",
        "# for i in range(len(path_rollar)):\n",
        "#    img = cv2.imread('/content/meats/test/'+ path_rollar[i])\n",
        "#    img = cv2.resize(img,(image_size,image_size))\n",
        "#    img_rollar.append(img)\n",
        "\n",
        "\n",
        "\n",
        "# X = np.array(img_bh + img_bu + img_rollar) #行列をくっつける。\n",
        "X = np.array(img_bh + img_bu) #行列をくっつける。\n",
        "# y = np.array([0]*len(img_bh) + [1]*len(img_bu) + [2]*len(img_rollar)) #０、１、２と種類ごとに番号をつける。\n",
        "y = np.array([0]*len(img_bh) + [1]*len(img_bu)) #０、１、２と種類ごとに番号をつける。\n",
        "rand_index = np.random.permutation(np.arange(len(X))) #np.arange(x)の配列をランダムに並べ替えてrand_indexに入れる。\n",
        "X = X[rand_index] #Xをrand_index順に並び替える\n",
        "y = y[rand_index] #yをrand_index順に並び替える\n",
        "\n",
        "#データを分割する。\n",
        "X_train = X[:int(len(X)*0.8)] #トレーニングデータ８割未満\n",
        "y_train = y[:int(len(y)*0.8)]\n",
        "X_test = X[int(len(X)*0.8):] #トレーニングデータ以外\n",
        "y_test = y[int(len(y)*0.8):]\n",
        "\n",
        "#各属性を表示する。\n",
        "print(X_train.shape)\n",
        "print(y_train.shape)\n",
        "print(X_test.shape)\n",
        "print(y_test.shape)\n",
        "\n",
        "y_train = to_categorical(y_train) #One-Hotベクトルを作成する。\n",
        "y_test = to_categorical(y_test) #One-Hotベクトルを作成する。\n",
        "\n",
        "# 転移学習（VGG16モデル)を活用する。ImageNetで事前学習した重みを読み込む。\n",
        "input_tensor = Input(shape=(image_size, image_size, 3)) \n",
        "vgg16 = VGG16(include_top=False, weights='imagenet', input_tensor=input_tensor)\n"
      ],
      "execution_count": null,
      "outputs": [
        {
          "output_type": "stream",
          "text": [
            "(912, 50, 50, 3)\n",
            "(912,)\n",
            "(229, 50, 50, 3)\n",
            "(229,)\n"
          ],
          "name": "stdout"
        }
      ]
    },
    {
      "cell_type": "code",
      "metadata": {
        "id": "ddrUp3a_tMSt"
      },
      "source": [
        "#特徴抽出部分以降に新しく他の層を追加するにために、あらかじめVGGとは別のモデル（ここではtop_model）を定義する。\n",
        "top_model = Sequential()\n",
        "top_model.add(Flatten(input_shape=vgg16.output_shape[1:])) #VGGを結合する。\n",
        "\n",
        "top_model.add(Dense(256, activation=\"sigmoid\")) #1つ目の全結合層の出力ユニット数は256,活性化関数はshigmoid.\n",
        "top_model.add(Dropout(0.5))                     #過学習を防ぐ。\n",
        "top_model.add(Dense(64, activation='sigmoid'))\n",
        "top_model.add(Dropout(0.5))\n",
        "top_model.add(Dense(32, activation='sigmoid'))\n",
        "top_model.add(Dropout(0.5))\n",
        "top_model.add(Dense(2, activation='softmax')) #ソフトマックス関数を用いて3次元で出力する。\n",
        "\n",
        "## vgg16とtop_modelを連結してください\n",
        "model = Model(inputs=vgg16.input, outputs=top_model(vgg16.output))\n",
        "\n"
      ],
      "execution_count": null,
      "outputs": []
    },
    {
      "cell_type": "code",
      "metadata": {
        "colab": {
          "base_uri": "https://localhost:8080/"
        },
        "id": "Troc2ExptpiE",
        "outputId": "a498ee63-2a9c-453a-e707-5658593b83e8"
      },
      "source": [
        "#15番目の層までは固定し、それ以降のものを繰り返し学習する。\n",
        "for layer in model.layers[:15]:\n",
        "   layer.trainable = False\n",
        "\n",
        "#コンパイルする。\n",
        "model.compile(loss='categorical_crossentropy', #多クラス分類の損失関数を定義する。\n",
        "             optimizer=optimizers.SGD(lr=1e-4, momentum=0.9), #最適化関数を定義する。\n",
        "             metrics=['accuracy']) #評価関数を定義する。\n",
        "\n",
        "#X_train, y_trainを用いて学習を行う。テストデータは、X_test, y_test。\n",
        "history = model.fit(X_train, y_train, batch_size=32, epochs=15, verbose=1, validation_data=(X_test, y_test))\n",
        "\n",
        "#精度の評価する。\n",
        "score = model.evaluate(X_test, y_test, batch_size=32, verbose=0)\n",
        "print('validation loss:{0[0]}\\nvalidation accuracy:{0[1]}'.format(score))\n",
        "\n",
        "#モデルを保存する。\n",
        "model.save(\"my_model.h5\")"
      ],
      "execution_count": null,
      "outputs": [
        {
          "output_type": "stream",
          "text": [
            "/usr/local/lib/python3.7/dist-packages/tensorflow/python/keras/optimizer_v2/optimizer_v2.py:375: UserWarning: The `lr` argument is deprecated, use `learning_rate` instead.\n",
            "  \"The `lr` argument is deprecated, use `learning_rate` instead.\")\n"
          ],
          "name": "stderr"
        },
        {
          "output_type": "stream",
          "text": [
            "Epoch 1/15\n",
            "29/29 [==============================] - 3s 38ms/step - loss: 0.4327 - accuracy: 0.8313 - val_loss: 0.3578 - val_accuracy: 0.9170\n",
            "Epoch 2/15\n",
            "29/29 [==============================] - 0s 16ms/step - loss: 0.3979 - accuracy: 0.8632 - val_loss: 0.3561 - val_accuracy: 0.9214\n",
            "Epoch 3/15\n",
            "29/29 [==============================] - 0s 16ms/step - loss: 0.4226 - accuracy: 0.8157 - val_loss: 0.3548 - val_accuracy: 0.9170\n",
            "Epoch 4/15\n",
            "29/29 [==============================] - 1s 18ms/step - loss: 0.4161 - accuracy: 0.8413 - val_loss: 0.3528 - val_accuracy: 0.9214\n",
            "Epoch 5/15\n",
            "29/29 [==============================] - 0s 16ms/step - loss: 0.4456 - accuracy: 0.8026 - val_loss: 0.3519 - val_accuracy: 0.9170\n",
            "Epoch 6/15\n",
            "29/29 [==============================] - 1s 18ms/step - loss: 0.4022 - accuracy: 0.8320 - val_loss: 0.3502 - val_accuracy: 0.9214\n",
            "Epoch 7/15\n",
            "29/29 [==============================] - 0s 16ms/step - loss: 0.4000 - accuracy: 0.8443 - val_loss: 0.3489 - val_accuracy: 0.9214\n",
            "Epoch 8/15\n",
            "29/29 [==============================] - 0s 16ms/step - loss: 0.3997 - accuracy: 0.8491 - val_loss: 0.3470 - val_accuracy: 0.9214\n",
            "Epoch 9/15\n",
            "29/29 [==============================] - 0s 15ms/step - loss: 0.3903 - accuracy: 0.8783 - val_loss: 0.3462 - val_accuracy: 0.9127\n",
            "Epoch 10/15\n",
            "29/29 [==============================] - 0s 16ms/step - loss: 0.3810 - accuracy: 0.8738 - val_loss: 0.3450 - val_accuracy: 0.9127\n",
            "Epoch 11/15\n",
            "29/29 [==============================] - 0s 16ms/step - loss: 0.3800 - accuracy: 0.8510 - val_loss: 0.3432 - val_accuracy: 0.9170\n",
            "Epoch 12/15\n",
            "29/29 [==============================] - 0s 15ms/step - loss: 0.4038 - accuracy: 0.8496 - val_loss: 0.3413 - val_accuracy: 0.9214\n",
            "Epoch 13/15\n",
            "29/29 [==============================] - 1s 18ms/step - loss: 0.3897 - accuracy: 0.8473 - val_loss: 0.3401 - val_accuracy: 0.9170\n",
            "Epoch 14/15\n",
            "29/29 [==============================] - 1s 18ms/step - loss: 0.3876 - accuracy: 0.8584 - val_loss: 0.3392 - val_accuracy: 0.9170\n",
            "Epoch 15/15\n",
            "29/29 [==============================] - 0s 16ms/step - loss: 0.3756 - accuracy: 0.8702 - val_loss: 0.3369 - val_accuracy: 0.9170\n",
            "validation loss:0.3368851840496063\n",
            "validation accuracy:0.9170305728912354\n"
          ],
          "name": "stdout"
        }
      ]
    },
    {
      "cell_type": "code",
      "metadata": {
        "id": "X3Nll4Er0oWc"
      },
      "source": [
        ""
      ],
      "execution_count": null,
      "outputs": []
    },
    {
      "cell_type": "code",
      "metadata": {
        "colab": {
          "base_uri": "https://localhost:8080/",
          "height": 800
        },
        "id": "W2L9jF5KvhOM",
        "outputId": "8755e152-5c3e-406d-910f-78c17e802aef"
      },
      "source": [
        "#plt.plot(history.history['acc'])\n",
        "plt.plot(history.history['accuracy'])\n",
        "#plt.plot(history.history['val_acc'])\n",
        "plt.plot(history.history['val_accuracy'])\n",
        "plt.title('Model accuracy')\n",
        "plt.ylabel('Accuracy')\n",
        "plt.xlabel('Epoch')\n",
        "plt.grid()\n",
        "plt.legend(['Train', 'Validation'], loc='upper left')\n",
        "plt.show()\n",
        "\n",
        "plt.plot(history.history['loss'])\n",
        "plt.plot(history.history['val_loss'])\n",
        "plt.title('Model loss')\n",
        "plt.ylabel('Loss')\n",
        "plt.xlabel('Epoch')\n",
        "plt.grid()\n",
        "plt.legend(['Train', 'Validation'], loc='upper left')\n",
        "plt.show()\n",
        "\n",
        "score = model.evaluate(x_test, y_test, verbose=0)\n",
        "print('Loss:', score[0], '（損失関数値 - 0に近いほど正解に近い）') \n",
        "print('Accuracy:', score[1] * 100, '%', '（精度 - 100% に近いほど正解に近い）') \n",
        "print('Computation time（計算時間）:{0:.3f} sec（秒）'.format(time.time() - start_time))"
      ],
      "execution_count": null,
      "outputs": [
        {
          "output_type": "display_data",
          "data": {
            "image/png": "[encoded data removed]",
            "text/plain": [
              "<Figure size 432x288 with 1 Axes>"
            ]
          },
          "metadata": {
            "tags": [],
            "needs_background": "light"
          }
        },
        {
          "output_type": "display_data",
          "data": {
            "image/png": "[encoded data removed]",
            "text/plain": [
              "<Figure size 432x288 with 1 Axes>"
            ]
          },
          "metadata": {
            "tags": [],
            "needs_background": "light"
          }
        },
        {
          "output_type": "error",
          "ename": "NameError",
          "evalue": "ignored",
          "traceback": [
            "\u001b[0;31m---------------------------------------------------------------------------\u001b[0m",
            "\u001b[0;31mNameError\u001b[0m                                 Traceback (most recent call last)",
            "\u001b[0;32m<ipython-input-25-e2980ea664f4>\u001b[0m in \u001b[0;36m<module>\u001b[0;34m()\u001b[0m\n\u001b[1;32m     19\u001b[0m \u001b[0mplt\u001b[0m\u001b[0;34m.\u001b[0m\u001b[0mshow\u001b[0m\u001b[0;34m(\u001b[0m\u001b[0;34m)\u001b[0m\u001b[0;34m\u001b[0m\u001b[0;34m\u001b[0m\u001b[0m\n\u001b[1;32m     20\u001b[0m \u001b[0;34m\u001b[0m\u001b[0m\n\u001b[0;32m---> 21\u001b[0;31m \u001b[0mscore\u001b[0m \u001b[0;34m=\u001b[0m \u001b[0mmodel\u001b[0m\u001b[0;34m.\u001b[0m\u001b[0mevaluate\u001b[0m\u001b[0;34m(\u001b[0m\u001b[0mx_test\u001b[0m\u001b[0;34m,\u001b[0m \u001b[0my_test\u001b[0m\u001b[0;34m,\u001b[0m \u001b[0mverbose\u001b[0m\u001b[0;34m=\u001b[0m\u001b[0;36m0\u001b[0m\u001b[0;34m)\u001b[0m\u001b[0;34m\u001b[0m\u001b[0;34m\u001b[0m\u001b[0m\n\u001b[0m\u001b[1;32m     22\u001b[0m \u001b[0mprint\u001b[0m\u001b[0;34m(\u001b[0m\u001b[0;34m'Loss:'\u001b[0m\u001b[0;34m,\u001b[0m \u001b[0mscore\u001b[0m\u001b[0;34m[\u001b[0m\u001b[0;36m0\u001b[0m\u001b[0;34m]\u001b[0m\u001b[0;34m,\u001b[0m \u001b[0;34m'（損失関数値 - 0に近いほど正解に近い）'\u001b[0m\u001b[0;34m)\u001b[0m\u001b[0;34m\u001b[0m\u001b[0;34m\u001b[0m\u001b[0m\n\u001b[1;32m     23\u001b[0m \u001b[0mprint\u001b[0m\u001b[0;34m(\u001b[0m\u001b[0;34m'Accuracy:'\u001b[0m\u001b[0;34m,\u001b[0m \u001b[0mscore\u001b[0m\u001b[0;34m[\u001b[0m\u001b[0;36m1\u001b[0m\u001b[0;34m]\u001b[0m \u001b[0;34m*\u001b[0m \u001b[0;36m100\u001b[0m\u001b[0;34m,\u001b[0m \u001b[0;34m'%'\u001b[0m\u001b[0;34m,\u001b[0m \u001b[0;34m'（精度 - 100% に近いほど正解に近い）'\u001b[0m\u001b[0;34m)\u001b[0m\u001b[0;34m\u001b[0m\u001b[0;34m\u001b[0m\u001b[0m\n",
            "\u001b[0;31mNameError\u001b[0m: name 'x_test' is not defined"
          ]
        }
      ]
    }
  ]
}